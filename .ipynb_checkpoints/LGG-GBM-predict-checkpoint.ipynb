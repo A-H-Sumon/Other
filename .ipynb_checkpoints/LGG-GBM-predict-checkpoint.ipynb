{
 "cells": [
  {
   "cell_type": "code",
   "execution_count": 1,
   "id": "440e324e",
   "metadata": {},
   "outputs": [],
   "source": [
    "import pandas as pd\n",
    "dir = 'F:\\diabetese-dataset\\TCGA_InfoWithGrade.csv'\n",
    "df = pd.read_csv(dir)"
   ]
  },
  {
   "cell_type": "code",
   "execution_count": 2,
   "id": "1ac430e5",
   "metadata": {},
   "outputs": [],
   "source": [
    "df.loc[df['Age_at_diagnosis'].between(15,19), 'age_group'] = '15-19'\n",
    "df.loc[df['Age_at_diagnosis'].between(20,24), 'age_group'] = '20-24'\n",
    "df.loc[df['Age_at_diagnosis'].between(25,29), 'age_group'] = '25-29'\n",
    "df.loc[df['Age_at_diagnosis'].between(30,35), 'age_group'] = '30-35'\n",
    "df.loc[df['Age_at_diagnosis'].between(35,39), 'age_group'] = '35-39'\n",
    "df.loc[df['Age_at_diagnosis'].between(40,44), 'age_group'] = '40-44'\n",
    "df.loc[df['Age_at_diagnosis'].between(45,49), 'age_group'] = '45-49'\n",
    "df.loc[df['Age_at_diagnosis'].between(50,54), 'age_group'] = '50-54'\n",
    "df.loc[df['Age_at_diagnosis'].between(55,59), 'age_group'] = '55-59'\n",
    "df.loc[df['Age_at_diagnosis'].between(60,64), 'age_group'] = '60-64'\n",
    "df.loc[df['Age_at_diagnosis'].between(65,69), 'age_group'] = '65-69'\n",
    "df.loc[df['Age_at_diagnosis'].between(70,74), 'age_group'] = '70-74'\n",
    "df.loc[df['Age_at_diagnosis'].between(75,79), 'age_group'] = '75-79'\n",
    "df.loc[df['Age_at_diagnosis'].between(80,84), 'age_group'] = '80-84'\n",
    "df.loc[df['Age_at_diagnosis'].between(85,89), 'age_group'] = '85-89'\n",
    "df.loc[df['Age_at_diagnosis'].between(90,94), 'age_group'] = '90-94'\n",
    "df.loc[df['Age_at_diagnosis'].between(95,99), 'age_group'] = '95-99'"
   ]
  },
  {
   "cell_type": "code",
   "execution_count": 3,
   "id": "3702bfd1",
   "metadata": {},
   "outputs": [
    {
     "name": "stderr",
     "output_type": "stream",
     "text": [
      "D:\\Anaconda\\lib\\site-packages\\scipy\\__init__.py:146: UserWarning: A NumPy version >=1.16.5 and <1.23.0 is required for this version of SciPy (detected version 1.24.3\n",
      "  warnings.warn(f\"A NumPy version >={np_minversion} and <{np_maxversion}\"\n"
     ]
    }
   ],
   "source": [
    "df1 = df.drop(['Age_at_diagnosis'], axis='columns')\n",
    "from sklearn.preprocessing import LabelEncoder\n",
    "le_class = LabelEncoder()\n",
    "df1['age_group'] = le_class.fit_transform(df['age_group'])"
   ]
  },
  {
   "cell_type": "code",
   "execution_count": 8,
   "id": "3c1d3c6d",
   "metadata": {},
   "outputs": [],
   "source": [
    "X = df1.iloc[:,1:24]  #independent columns\n",
    "y = df1.iloc[:,0]    #target column i.e price range\n"
   ]
  },
  {
   "cell_type": "code",
   "execution_count": null,
   "id": "38c4bcba",
   "metadata": {},
   "outputs": [],
   "source": []
  },
  {
   "cell_type": "code",
   "execution_count": null,
   "id": "40dfa5d5",
   "metadata": {},
   "outputs": [],
   "source": []
  },
  {
   "cell_type": "code",
   "execution_count": 45,
   "id": "c98bdc97",
   "metadata": {},
   "outputs": [],
   "source": [
    "from sklearn.model_selection import train_test_split\n",
    "from sklearn import tree\n",
    "from sklearn.tree import DecisionTreeClassifier\n",
    "from sklearn.metrics import classification_report, confusion_matrix\n",
    "import matplotlib.pyplot as plt\n",
    "import seaborn as sns\n",
    "\n",
    "x_train, x_test, y_train, y_test = train_test_split(X, y, test_size = 0.2)\n"
   ]
  },
  {
   "cell_type": "code",
   "execution_count": 28,
   "id": "6bd29f1c",
   "metadata": {},
   "outputs": [],
   "source": [
    "model = tree.DecisionTreeClassifier()\n",
    "prediction = model.fit(x_train, y_train)"
   ]
  },
  {
   "cell_type": "code",
   "execution_count": 29,
   "id": "15686696",
   "metadata": {},
   "outputs": [
    {
     "name": "stdout",
     "output_type": "stream",
     "text": [
      "              precision    recall  f1-score   support\n",
      "\n",
      "           0       0.81      0.87      0.84        90\n",
      "           1       0.83      0.77      0.80        78\n",
      "\n",
      "    accuracy                           0.82       168\n",
      "   macro avg       0.82      0.82      0.82       168\n",
      "weighted avg       0.82      0.82      0.82       168\n",
      "\n"
     ]
    }
   ],
   "source": [
    "y_pred=model.predict(x_test)\n",
    "print(classification_report(y_test,y_pred))"
   ]
  },
  {
   "cell_type": "code",
   "execution_count": 46,
   "id": "9ea90d6f",
   "metadata": {},
   "outputs": [
    {
     "data": {
      "image/png": "[encoded data removed]",
      "text/plain": [
       "<Figure size 360x360 with 2 Axes>"
      ]
     },
     "metadata": {
      "needs_background": "light"
     },
     "output_type": "display_data"
    }
   ],
   "source": [
    "conf_mat = confusion_matrix(y_test,y_pred)\n",
    "fig, ax = plt.subplots(figsize=(5,5))\n",
    "sns.heatmap(conf_mat, annot=True, fmt='d', cmap=\"Blues\")\n",
    "plt.ylabel('Actual')\n",
    "plt.xlabel('Predicted')\n",
    "plt.show()"
   ]
  },
  {
   "cell_type": "code",
   "execution_count": 31,
   "id": "134a32a0",
   "metadata": {},
   "outputs": [
    {
     "name": "stdout",
     "output_type": "stream",
     "text": [
      "     age_group  IDH1  PTEN  CIC  ATRX  EGFR  RB1  NOTCH1  FUBP1  TP53\n",
      "0            7     1     0    0     0     0    0       0      1     0\n",
      "1            4     1     0    1     0     0    0       0      0     0\n",
      "2            4     1     0    0     1     0    0       0      0     1\n",
      "3            3     1     0    0     1     0    0       0      0     1\n",
      "4            3     1     0    0     1     0    0       0      0     1\n",
      "..         ...   ...   ...  ...   ...   ...  ...     ...    ...   ...\n",
      "834         12     0     1    0     0     0    0       0      0     0\n",
      "835         14     0     1    0     0     0    0       0      0     1\n",
      "836         12     0     1    0     0     0    0       0      0     1\n",
      "837          9     0     0    0     0     0    1       0      0     1\n",
      "838         12     0     0    0     0     0    0       0      0     0\n",
      "\n",
      "[839 rows x 10 columns]\n",
      "0      0\n",
      "1      0\n",
      "2      0\n",
      "3      0\n",
      "4      0\n",
      "      ..\n",
      "834    1\n",
      "835    1\n",
      "836    1\n",
      "837    1\n",
      "838    1\n",
      "Name: Grade, Length: 839, dtype: int64\n"
     ]
    }
   ],
   "source": [
    "###### Now With Best Features.....\n",
    "x1 = df1[['age_group','IDH1','PTEN','CIC','ATRX','EGFR','RB1','NOTCH1','FUBP1','TP53']]\n",
    "y1 = df1.iloc[:,0]\n",
    "print(x1)\n",
    "print(y1)"
   ]
  },
  {
   "cell_type": "code",
   "execution_count": 32,
   "id": "55cf2779",
   "metadata": {},
   "outputs": [],
   "source": [
    "x_train_new, x_test_new, y_train_new, y_test_new = train_test_split(x1, y1, test_size = 0.2)"
   ]
  },
  {
   "cell_type": "code",
   "execution_count": 33,
   "id": "aaa578f6",
   "metadata": {},
   "outputs": [],
   "source": [
    "model = tree.DecisionTreeClassifier()\n",
    "prediction = model.fit(x_train_new, y_train_new)"
   ]
  },
  {
   "cell_type": "code",
   "execution_count": 47,
   "id": "496bb1e9",
   "metadata": {},
   "outputs": [
    {
     "name": "stdout",
     "output_type": "stream",
     "text": [
      "              precision    recall  f1-score   support\n",
      "\n",
      "           0       0.88      0.79      0.83       103\n",
      "           1       0.71      0.83      0.77        65\n",
      "\n",
      "    accuracy                           0.80       168\n",
      "   macro avg       0.80      0.81      0.80       168\n",
      "weighted avg       0.81      0.80      0.81       168\n",
      "\n"
     ]
    }
   ],
   "source": [
    "y_pred1=model.predict(x_test_new)\n",
    "print(classification_report(y_test_new,y_pred1))"
   ]
  },
  {
   "cell_type": "code",
   "execution_count": 48,
   "id": "886c1b11",
   "metadata": {},
   "outputs": [
    {
     "data": {
      "image/png": "[encoded data removed]",
      "text/plain": [
       "<Figure size 360x360 with 2 Axes>"
      ]
     },
     "metadata": {
      "needs_background": "light"
     },
     "output_type": "display_data"
    }
   ],
   "source": [
    "conf_mat = confusion_matrix(y_test_new,y_pred1)\n",
    "fig, ax = plt.subplots(figsize=(5,5))\n",
    "sns.heatmap(conf_mat, annot=True, fmt='d', cmap=\"Blues\")\n",
    "plt.ylabel('Actual')\n",
    "plt.xlabel('Predicted')\n",
    "plt.show()"
   ]
  },
  {
   "cell_type": "code",
   "execution_count": 36,
   "id": "829bbeda",
   "metadata": {},
   "outputs": [
    {
     "name": "stdout",
     "output_type": "stream",
     "text": [
      "              precision    recall  f1-score   support\n",
      "\n",
      "           0       0.88      0.79      0.83       103\n",
      "           1       0.71      0.83      0.77        65\n",
      "\n",
      "    accuracy                           0.80       168\n",
      "   macro avg       0.80      0.81      0.80       168\n",
      "weighted avg       0.81      0.80      0.81       168\n",
      "\n"
     ]
    }
   ],
   "source": [
    "from sklearn.naive_bayes import MultinomialNB\n",
    "model = MultinomialNB().fit(x_train_new, y_train_new)\n",
    "y_predict=model.predict(x_test_new)\n",
    "print(classification_report(y_test_new,y_predict))"
   ]
  },
  {
   "cell_type": "code",
   "execution_count": 49,
   "id": "27f99d9e",
   "metadata": {},
   "outputs": [
    {
     "data": {
      "image/png": "[encoded data removed]",
      "text/plain": [
       "<Figure size 360x360 with 2 Axes>"
      ]
     },
     "metadata": {
      "needs_background": "light"
     },
     "output_type": "display_data"
    }
   ],
   "source": [
    "conf_mat = confusion_matrix(y_test_new,y_predict)\n",
    "fig, ax = plt.subplots(figsize=(5,5))\n",
    "sns.heatmap(conf_mat, annot=True, fmt='d', cmap=\"Blues\")\n",
    "plt.ylabel('Actual')\n",
    "plt.xlabel('Predicted')\n",
    "plt.show()"
   ]
  },
  {
   "cell_type": "code",
   "execution_count": 39,
   "id": "c6598e3c",
   "metadata": {},
   "outputs": [
    {
     "name": "stdout",
     "output_type": "stream",
     "text": [
      "              precision    recall  f1-score   support\n",
      "\n",
      "           0       0.92      0.77      0.84       103\n",
      "           1       0.71      0.89      0.79        65\n",
      "\n",
      "    accuracy                           0.82       168\n",
      "   macro avg       0.81      0.83      0.81       168\n",
      "weighted avg       0.84      0.82      0.82       168\n",
      "\n"
     ]
    }
   ],
   "source": [
    "from sklearn import svm\n",
    "from sklearn.svm import SVC\n",
    "classifier = svm.SVC(kernel='linear', gamma ='auto', C=1)\n",
    "classifier.fit(x_train_new, y_train_new)\n",
    "y_predict_new = classifier.predict(x_test_new)\n",
    "print(classification_report(y_test_new, y_predict_new))"
   ]
  },
  {
   "cell_type": "code",
   "execution_count": 50,
   "id": "d68c4467",
   "metadata": {},
   "outputs": [
    {
     "data": {
      "image/png": "[encoded data removed]",
      "text/plain": [
       "<Figure size 360x360 with 2 Axes>"
      ]
     },
     "metadata": {
      "needs_background": "light"
     },
     "output_type": "display_data"
    }
   ],
   "source": [
    "conf_mat = confusion_matrix(y_test,y_predict_new)\n",
    "fig, ax = plt.subplots(figsize=(5,5))\n",
    "sns.heatmap(conf_mat, annot=True, fmt='d', cmap=\"Blues\")\n",
    "plt.ylabel('Actual')\n",
    "plt.xlabel('Predicted')\n",
    "plt.show()"
   ]
  },
  {
   "cell_type": "code",
   "execution_count": null,
   "id": "462950a8",
   "metadata": {},
   "outputs": [],
   "source": []
  }
 ],
 "metadata": {
  "kernelspec": {
   "display_name": "Python 3 (ipykernel)",
   "language": "python",
   "name": "python3"
  },
  "language_info": {
   "codemirror_mode": {
    "name": "ipython",
    "version": 3
   },
   "file_extension": ".py",
   "mimetype": "text/x-python",
   "name": "python",
   "nbconvert_exporter": "python",
   "pygments_lexer": "ipython3",
   "version": "3.9.7"
  }
 },
 "nbformat": 4,
 "nbformat_minor": 5
}
