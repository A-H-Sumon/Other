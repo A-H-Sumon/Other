{
 "cells": [
  {
   "cell_type": "code",
   "execution_count": 1,
   "id": "2fdb593a",
   "metadata": {},
   "outputs": [
    {
     "data": {
      "text/html": [
       "<div>\n",
       "<style scoped>\n",
       "    .dataframe tbody tr th:only-of-type {\n",
       "        vertical-align: middle;\n",
       "    }\n",
       "\n",
       "    .dataframe tbody tr th {\n",
       "        vertical-align: top;\n",
       "    }\n",
       "\n",
       "    .dataframe thead th {\n",
       "        text-align: right;\n",
       "    }\n",
       "</style>\n",
       "<table border=\"1\" class=\"dataframe\">\n",
       "  <thead>\n",
       "    <tr style=\"text-align: right;\">\n",
       "      <th></th>\n",
       "      <th>date_week</th>\n",
       "      <th>date</th>\n",
       "      <th>rain</th>\n",
       "      <th>Tair</th>\n",
       "      <th>rh</th>\n",
       "      <th>Mean_EVI</th>\n",
       "      <th>lncase_0</th>\n",
       "      <th>lncase_1</th>\n",
       "      <th>lncase_2</th>\n",
       "      <th>lncase_3</th>\n",
       "      <th>lncase_4</th>\n",
       "    </tr>\n",
       "  </thead>\n",
       "  <tbody>\n",
       "    <tr>\n",
       "      <th>0</th>\n",
       "      <td>201301</td>\n",
       "      <td>2012-12-30</td>\n",
       "      <td>0.195273</td>\n",
       "      <td>0.643833</td>\n",
       "      <td>0.491234</td>\n",
       "      <td>0.222167</td>\n",
       "      <td>3.496508</td>\n",
       "      <td>4.382027</td>\n",
       "      <td>4.682131</td>\n",
       "      <td>4.691348</td>\n",
       "      <td>5.023881</td>\n",
       "    </tr>\n",
       "    <tr>\n",
       "      <th>1</th>\n",
       "      <td>201302</td>\n",
       "      <td>2013-01-06</td>\n",
       "      <td>0.000441</td>\n",
       "      <td>0.679941</td>\n",
       "      <td>0.452052</td>\n",
       "      <td>0.581625</td>\n",
       "      <td>4.382027</td>\n",
       "      <td>4.682131</td>\n",
       "      <td>4.691348</td>\n",
       "      <td>5.023881</td>\n",
       "      <td>4.983607</td>\n",
       "    </tr>\n",
       "    <tr>\n",
       "      <th>2</th>\n",
       "      <td>201303</td>\n",
       "      <td>2013-01-13</td>\n",
       "      <td>0.006073</td>\n",
       "      <td>0.757157</td>\n",
       "      <td>0.528279</td>\n",
       "      <td>0.708618</td>\n",
       "      <td>4.682131</td>\n",
       "      <td>4.691348</td>\n",
       "      <td>5.023881</td>\n",
       "      <td>4.983607</td>\n",
       "      <td>4.787492</td>\n",
       "    </tr>\n",
       "    <tr>\n",
       "      <th>3</th>\n",
       "      <td>201304</td>\n",
       "      <td>2013-01-20</td>\n",
       "      <td>0.006922</td>\n",
       "      <td>0.628925</td>\n",
       "      <td>0.613447</td>\n",
       "      <td>0.683476</td>\n",
       "      <td>4.691348</td>\n",
       "      <td>5.023881</td>\n",
       "      <td>4.983607</td>\n",
       "      <td>4.787492</td>\n",
       "      <td>5.411646</td>\n",
       "    </tr>\n",
       "    <tr>\n",
       "      <th>4</th>\n",
       "      <td>201305</td>\n",
       "      <td>2013-01-27</td>\n",
       "      <td>0.056071</td>\n",
       "      <td>0.649667</td>\n",
       "      <td>0.416352</td>\n",
       "      <td>0.722145</td>\n",
       "      <td>5.023881</td>\n",
       "      <td>4.983607</td>\n",
       "      <td>4.787492</td>\n",
       "      <td>5.411646</td>\n",
       "      <td>5.777652</td>\n",
       "    </tr>\n",
       "    <tr>\n",
       "      <th>...</th>\n",
       "      <td>...</td>\n",
       "      <td>...</td>\n",
       "      <td>...</td>\n",
       "      <td>...</td>\n",
       "      <td>...</td>\n",
       "      <td>...</td>\n",
       "      <td>...</td>\n",
       "      <td>...</td>\n",
       "      <td>...</td>\n",
       "      <td>...</td>\n",
       "      <td>...</td>\n",
       "    </tr>\n",
       "    <tr>\n",
       "      <th>413</th>\n",
       "      <td>202049</td>\n",
       "      <td>2020-11-29</td>\n",
       "      <td>0.002675</td>\n",
       "      <td>0.593175</td>\n",
       "      <td>0.569991</td>\n",
       "      <td>0.754052</td>\n",
       "      <td>4.521789</td>\n",
       "      <td>4.290459</td>\n",
       "      <td>4.406719</td>\n",
       "      <td>3.637586</td>\n",
       "      <td>3.737670</td>\n",
       "    </tr>\n",
       "    <tr>\n",
       "      <th>414</th>\n",
       "      <td>202050</td>\n",
       "      <td>2020-12-06</td>\n",
       "      <td>0.019823</td>\n",
       "      <td>0.561818</td>\n",
       "      <td>0.519115</td>\n",
       "      <td>0.625111</td>\n",
       "      <td>4.290459</td>\n",
       "      <td>4.406719</td>\n",
       "      <td>3.637586</td>\n",
       "      <td>3.737670</td>\n",
       "      <td>3.687628</td>\n",
       "    </tr>\n",
       "    <tr>\n",
       "      <th>415</th>\n",
       "      <td>202051</td>\n",
       "      <td>2020-12-13</td>\n",
       "      <td>0.011249</td>\n",
       "      <td>0.586876</td>\n",
       "      <td>0.544007</td>\n",
       "      <td>0.703703</td>\n",
       "      <td>4.406719</td>\n",
       "      <td>3.637586</td>\n",
       "      <td>3.737670</td>\n",
       "      <td>3.687628</td>\n",
       "      <td>3.712649</td>\n",
       "    </tr>\n",
       "    <tr>\n",
       "      <th>416</th>\n",
       "      <td>202052</td>\n",
       "      <td>2020-12-20</td>\n",
       "      <td>0.023800</td>\n",
       "      <td>0.533037</td>\n",
       "      <td>0.532567</td>\n",
       "      <td>0.638070</td>\n",
       "      <td>3.637586</td>\n",
       "      <td>3.737670</td>\n",
       "      <td>3.687628</td>\n",
       "      <td>3.687628</td>\n",
       "      <td>3.700138</td>\n",
       "    </tr>\n",
       "    <tr>\n",
       "      <th>417</th>\n",
       "      <td>202053</td>\n",
       "      <td>2020-12-27</td>\n",
       "      <td>0.000176</td>\n",
       "      <td>0.595330</td>\n",
       "      <td>0.530835</td>\n",
       "      <td>0.805380</td>\n",
       "      <td>3.737670</td>\n",
       "      <td>4.487134</td>\n",
       "      <td>3.687628</td>\n",
       "      <td>3.704308</td>\n",
       "      <td>3.706394</td>\n",
       "    </tr>\n",
       "  </tbody>\n",
       "</table>\n",
       "<p>418 rows × 11 columns</p>\n",
       "</div>"
      ],
      "text/plain": [
       "     date_week       date      rain      Tair        rh  Mean_EVI  lncase_0  \\\n",
       "0       201301 2012-12-30  0.195273  0.643833  0.491234  0.222167  3.496508   \n",
       "1       201302 2013-01-06  0.000441  0.679941  0.452052  0.581625  4.382027   \n",
       "2       201303 2013-01-13  0.006073  0.757157  0.528279  0.708618  4.682131   \n",
       "3       201304 2013-01-20  0.006922  0.628925  0.613447  0.683476  4.691348   \n",
       "4       201305 2013-01-27  0.056071  0.649667  0.416352  0.722145  5.023881   \n",
       "..         ...        ...       ...       ...       ...       ...       ...   \n",
       "413     202049 2020-11-29  0.002675  0.593175  0.569991  0.754052  4.521789   \n",
       "414     202050 2020-12-06  0.019823  0.561818  0.519115  0.625111  4.290459   \n",
       "415     202051 2020-12-13  0.011249  0.586876  0.544007  0.703703  4.406719   \n",
       "416     202052 2020-12-20  0.023800  0.533037  0.532567  0.638070  3.637586   \n",
       "417     202053 2020-12-27  0.000176  0.595330  0.530835  0.805380  3.737670   \n",
       "\n",
       "     lncase_1  lncase_2  lncase_3  lncase_4  \n",
       "0    4.382027  4.682131  4.691348  5.023881  \n",
       "1    4.682131  4.691348  5.023881  4.983607  \n",
       "2    4.691348  5.023881  4.983607  4.787492  \n",
       "3    5.023881  4.983607  4.787492  5.411646  \n",
       "4    4.983607  4.787492  5.411646  5.777652  \n",
       "..        ...       ...       ...       ...  \n",
       "413  4.290459  4.406719  3.637586  3.737670  \n",
       "414  4.406719  3.637586  3.737670  3.687628  \n",
       "415  3.637586  3.737670  3.687628  3.712649  \n",
       "416  3.737670  3.687628  3.687628  3.700138  \n",
       "417  4.487134  3.687628  3.704308  3.706394  \n",
       "\n",
       "[418 rows x 11 columns]"
      ]
     },
     "execution_count": 1,
     "metadata": {},
     "output_type": "execute_result"
    }
   ],
   "source": [
    "import pandas as pd\n",
    "dir = 'F:\\diabetese-dataset\\Dengue.xlsx'\n",
    "df = pd.read_excel(dir)\n",
    "df"
   ]
  },
  {
   "cell_type": "code",
   "execution_count": 2,
   "id": "ae94f9be",
   "metadata": {},
   "outputs": [],
   "source": [
    "import numpy as np"
   ]
  },
  {
   "cell_type": "code",
   "execution_count": 11,
   "id": "ae2db4af",
   "metadata": {},
   "outputs": [],
   "source": [
    "from sklearn.preprocessing import MinMaxScaler\n",
    "scaler = MinMaxScaler(feature_range=(0,1))\n",
    "df1= scaler.fit_transform(np.array(df[['rain','Tair','rh','Mean_EVI','lncase_0','lncase_1','lncase_2','lncase_3','lncase_4']]).reshape(-1,1))\n",
    "#scaler.fit_transform(np.array(df['lncase_1']).reshape(-1,1))\n",
    "#scaler.fit_transform(np.array(df['lncase_2']).reshape(-1,1))\n",
    "#scaler.fit_transform(np.array(df['lncase_3']).reshape(-1,1))\n",
    "#scaler.fit_transform(np.array(df['lncase_4']).reshape(-1,1))"
   ]
  },
  {
   "cell_type": "code",
   "execution_count": 12,
   "id": "b300bf57",
   "metadata": {},
   "outputs": [
    {
     "data": {
      "text/plain": [
       "(3762, 1)"
      ]
     },
     "execution_count": 12,
     "metadata": {},
     "output_type": "execute_result"
    }
   ],
   "source": [
    "df1.shape"
   ]
  },
  {
   "cell_type": "code",
   "execution_count": 5,
   "id": "187e0c7e",
   "metadata": {},
   "outputs": [],
   "source": [
    "training_size= int(len(df1)*0.7)\n"
   ]
  },
  {
   "cell_type": "code",
   "execution_count": 6,
   "id": "8b49830f",
   "metadata": {},
   "outputs": [],
   "source": [
    "test_size = len(df1)-training_size\n"
   ]
  },
  {
   "cell_type": "code",
   "execution_count": 7,
   "id": "b6a3329d",
   "metadata": {},
   "outputs": [
    {
     "data": {
      "text/plain": [
       "(2633, 1129)"
      ]
     },
     "execution_count": 7,
     "metadata": {},
     "output_type": "execute_result"
    }
   ],
   "source": [
    "training_size,test_size"
   ]
  },
  {
   "cell_type": "raw",
   "id": "c081b451",
   "metadata": {},
   "source": []
  },
  {
   "cell_type": "code",
   "execution_count": 8,
   "id": "d38fe184",
   "metadata": {},
   "outputs": [],
   "source": [
    "train_data,test_data=df1[0:training_size,:],df1[training_size:len(df1),:1]"
   ]
  },
  {
   "cell_type": "code",
   "execution_count": 10,
   "id": "8bb1f5f5",
   "metadata": {},
   "outputs": [],
   "source": [
    "import numpy\n",
    "#convert an array of values into dataset matrix\n",
    "def create_dataset(dataset,time_step=1):\n",
    "    dataX,dataY = [], []\n",
    "    for i in range (len(dataset)-time_step-1):\n",
    "        a = dataset[i:(i+time_step),0]\n",
    "        dataX.append(a)\n",
    "        dataY.append(dataset[i + time_step ,0])\n",
    "    return numpy.array(dataX), numpy.array(dataY)"
   ]
  },
  {
   "cell_type": "code",
   "execution_count": null,
   "id": "e7eafb26",
   "metadata": {},
   "outputs": [],
   "source": []
  }
 ],
 "metadata": {
  "kernelspec": {
   "display_name": "Python 3 (ipykernel)",
   "language": "python",
   "name": "python3"
  },
  "language_info": {
   "codemirror_mode": {
    "name": "ipython",
    "version": 3
   },
   "file_extension": ".py",
   "mimetype": "text/x-python",
   "name": "python",
   "nbconvert_exporter": "python",
   "pygments_lexer": "ipython3",
   "version": "3.9.7"
  }
 },
 "nbformat": 4,
 "nbformat_minor": 5
}
