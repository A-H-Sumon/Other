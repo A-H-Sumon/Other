{
 "cells": [
  {
   "cell_type": "code",
   "execution_count": 3,
   "id": "2fdb593a",
   "metadata": {},
   "outputs": [
    {
     "data": {
      "text/html": [
       "<div>\n",
       "<style scoped>\n",
       "    .dataframe tbody tr th:only-of-type {\n",
       "        vertical-align: middle;\n",
       "    }\n",
       "\n",
       "    .dataframe tbody tr th {\n",
       "        vertical-align: top;\n",
       "    }\n",
       "\n",
       "    .dataframe thead th {\n",
       "        text-align: right;\n",
       "    }\n",
       "</style>\n",
       "<table border=\"1\" class=\"dataframe\">\n",
       "  <thead>\n",
       "    <tr style=\"text-align: right;\">\n",
       "      <th></th>\n",
       "      <th>date_week</th>\n",
       "      <th>date</th>\n",
       "      <th>rain</th>\n",
       "      <th>Tair</th>\n",
       "      <th>rh</th>\n",
       "      <th>Mean_EVI</th>\n",
       "      <th>lncase_0</th>\n",
       "      <th>lncase_1</th>\n",
       "      <th>lncase_2</th>\n",
       "      <th>lncase_3</th>\n",
       "      <th>lncase_4</th>\n",
       "    </tr>\n",
       "  </thead>\n",
       "  <tbody>\n",
       "    <tr>\n",
       "      <th>0</th>\n",
       "      <td>201301</td>\n",
       "      <td>2012-12-30</td>\n",
       "      <td>0.195273</td>\n",
       "      <td>0.643833</td>\n",
       "      <td>0.491234</td>\n",
       "      <td>0.222167</td>\n",
       "      <td>3.496508</td>\n",
       "      <td>4.382027</td>\n",
       "      <td>4.682131</td>\n",
       "      <td>4.691348</td>\n",
       "      <td>5.023881</td>\n",
       "    </tr>\n",
       "    <tr>\n",
       "      <th>1</th>\n",
       "      <td>201302</td>\n",
       "      <td>2013-01-06</td>\n",
       "      <td>0.000441</td>\n",
       "      <td>0.679941</td>\n",
       "      <td>0.452052</td>\n",
       "      <td>0.581625</td>\n",
       "      <td>4.382027</td>\n",
       "      <td>4.682131</td>\n",
       "      <td>4.691348</td>\n",
       "      <td>5.023881</td>\n",
       "      <td>4.983607</td>\n",
       "    </tr>\n",
       "    <tr>\n",
       "      <th>2</th>\n",
       "      <td>201303</td>\n",
       "      <td>2013-01-13</td>\n",
       "      <td>0.006073</td>\n",
       "      <td>0.757157</td>\n",
       "      <td>0.528279</td>\n",
       "      <td>0.708618</td>\n",
       "      <td>4.682131</td>\n",
       "      <td>4.691348</td>\n",
       "      <td>5.023881</td>\n",
       "      <td>4.983607</td>\n",
       "      <td>4.787492</td>\n",
       "    </tr>\n",
       "    <tr>\n",
       "      <th>3</th>\n",
       "      <td>201304</td>\n",
       "      <td>2013-01-20</td>\n",
       "      <td>0.006922</td>\n",
       "      <td>0.628925</td>\n",
       "      <td>0.613447</td>\n",
       "      <td>0.683476</td>\n",
       "      <td>4.691348</td>\n",
       "      <td>5.023881</td>\n",
       "      <td>4.983607</td>\n",
       "      <td>4.787492</td>\n",
       "      <td>5.411646</td>\n",
       "    </tr>\n",
       "    <tr>\n",
       "      <th>4</th>\n",
       "      <td>201305</td>\n",
       "      <td>2013-01-27</td>\n",
       "      <td>0.056071</td>\n",
       "      <td>0.649667</td>\n",
       "      <td>0.416352</td>\n",
       "      <td>0.722145</td>\n",
       "      <td>5.023881</td>\n",
       "      <td>4.983607</td>\n",
       "      <td>4.787492</td>\n",
       "      <td>5.411646</td>\n",
       "      <td>5.777652</td>\n",
       "    </tr>\n",
       "    <tr>\n",
       "      <th>...</th>\n",
       "      <td>...</td>\n",
       "      <td>...</td>\n",
       "      <td>...</td>\n",
       "      <td>...</td>\n",
       "      <td>...</td>\n",
       "      <td>...</td>\n",
       "      <td>...</td>\n",
       "      <td>...</td>\n",
       "      <td>...</td>\n",
       "      <td>...</td>\n",
       "      <td>...</td>\n",
       "    </tr>\n",
       "    <tr>\n",
       "      <th>413</th>\n",
       "      <td>202049</td>\n",
       "      <td>2020-11-29</td>\n",
       "      <td>0.002675</td>\n",
       "      <td>0.593175</td>\n",
       "      <td>0.569991</td>\n",
       "      <td>0.754052</td>\n",
       "      <td>4.521789</td>\n",
       "      <td>4.290459</td>\n",
       "      <td>4.406719</td>\n",
       "      <td>3.637586</td>\n",
       "      <td>3.737670</td>\n",
       "    </tr>\n",
       "    <tr>\n",
       "      <th>414</th>\n",
       "      <td>202050</td>\n",
       "      <td>2020-12-06</td>\n",
       "      <td>0.019823</td>\n",
       "      <td>0.561818</td>\n",
       "      <td>0.519115</td>\n",
       "      <td>0.625111</td>\n",
       "      <td>4.290459</td>\n",
       "      <td>4.406719</td>\n",
       "      <td>3.637586</td>\n",
       "      <td>3.737670</td>\n",
       "      <td>3.687628</td>\n",
       "    </tr>\n",
       "    <tr>\n",
       "      <th>415</th>\n",
       "      <td>202051</td>\n",
       "      <td>2020-12-13</td>\n",
       "      <td>0.011249</td>\n",
       "      <td>0.586876</td>\n",
       "      <td>0.544007</td>\n",
       "      <td>0.703703</td>\n",
       "      <td>4.406719</td>\n",
       "      <td>3.637586</td>\n",
       "      <td>3.737670</td>\n",
       "      <td>3.687628</td>\n",
       "      <td>3.712649</td>\n",
       "    </tr>\n",
       "    <tr>\n",
       "      <th>416</th>\n",
       "      <td>202052</td>\n",
       "      <td>2020-12-20</td>\n",
       "      <td>0.023800</td>\n",
       "      <td>0.533037</td>\n",
       "      <td>0.532567</td>\n",
       "      <td>0.638070</td>\n",
       "      <td>3.637586</td>\n",
       "      <td>3.737670</td>\n",
       "      <td>3.687628</td>\n",
       "      <td>3.687628</td>\n",
       "      <td>3.700138</td>\n",
       "    </tr>\n",
       "    <tr>\n",
       "      <th>417</th>\n",
       "      <td>202053</td>\n",
       "      <td>2020-12-27</td>\n",
       "      <td>0.000176</td>\n",
       "      <td>0.595330</td>\n",
       "      <td>0.530835</td>\n",
       "      <td>0.805380</td>\n",
       "      <td>3.737670</td>\n",
       "      <td>4.487134</td>\n",
       "      <td>3.687628</td>\n",
       "      <td>3.704308</td>\n",
       "      <td>3.706394</td>\n",
       "    </tr>\n",
       "  </tbody>\n",
       "</table>\n",
       "<p>418 rows × 11 columns</p>\n",
       "</div>"
      ],
      "text/plain": [
       "     date_week       date      rain      Tair        rh  Mean_EVI  lncase_0  \\\n",
       "0       201301 2012-12-30  0.195273  0.643833  0.491234  0.222167  3.496508   \n",
       "1       201302 2013-01-06  0.000441  0.679941  0.452052  0.581625  4.382027   \n",
       "2       201303 2013-01-13  0.006073  0.757157  0.528279  0.708618  4.682131   \n",
       "3       201304 2013-01-20  0.006922  0.628925  0.613447  0.683476  4.691348   \n",
       "4       201305 2013-01-27  0.056071  0.649667  0.416352  0.722145  5.023881   \n",
       "..         ...        ...       ...       ...       ...       ...       ...   \n",
       "413     202049 2020-11-29  0.002675  0.593175  0.569991  0.754052  4.521789   \n",
       "414     202050 2020-12-06  0.019823  0.561818  0.519115  0.625111  4.290459   \n",
       "415     202051 2020-12-13  0.011249  0.586876  0.544007  0.703703  4.406719   \n",
       "416     202052 2020-12-20  0.023800  0.533037  0.532567  0.638070  3.637586   \n",
       "417     202053 2020-12-27  0.000176  0.595330  0.530835  0.805380  3.737670   \n",
       "\n",
       "     lncase_1  lncase_2  lncase_3  lncase_4  \n",
       "0    4.382027  4.682131  4.691348  5.023881  \n",
       "1    4.682131  4.691348  5.023881  4.983607  \n",
       "2    4.691348  5.023881  4.983607  4.787492  \n",
       "3    5.023881  4.983607  4.787492  5.411646  \n",
       "4    4.983607  4.787492  5.411646  5.777652  \n",
       "..        ...       ...       ...       ...  \n",
       "413  4.290459  4.406719  3.637586  3.737670  \n",
       "414  4.406719  3.637586  3.737670  3.687628  \n",
       "415  3.637586  3.737670  3.687628  3.712649  \n",
       "416  3.737670  3.687628  3.687628  3.700138  \n",
       "417  4.487134  3.687628  3.704308  3.706394  \n",
       "\n",
       "[418 rows x 11 columns]"
      ]
     },
     "execution_count": 3,
     "metadata": {},
     "output_type": "execute_result"
    }
   ],
   "source": [
    "import pandas as pd\n",
    "dir = 'F:\\diabetese-dataset\\Dengue.xlsx'\n",
    "df = pd.read_excel(dir)\n",
    "df"
   ]
  },
  {
   "cell_type": "code",
   "execution_count": 4,
   "id": "ae94f9be",
   "metadata": {},
   "outputs": [],
   "source": [
    "import numpy as np"
   ]
  },
  {
   "cell_type": "code",
   "execution_count": 5,
   "id": "1a493d52",
   "metadata": {},
   "outputs": [],
   "source": [
    "from sklearn.preprocessing import MinMaxScaler\n",
    "scaler = MinMaxScaler(feature_range=(0,1))\n",
    "df1= scaler.fit_transform(np.array(df[['rain','Tair','rh','Mean_EVI','lncase_0','lncase_1','lncase_2','lncase_3','lncase_4']]).reshape(-1,1))\n",
    "#scaler.fit_transform(np.array(df['lncase_1']).reshape(-1,1))\n",
    "#scaler.fit_transform(np.array(df['lncase_2']).reshape(-1,1))\n",
    "#scaler.fit_transform(np.array(df['lncase_3']).reshape(-1,1))\n",
    "#scaler.fit_transform(np.array(df['lncase_4']).reshape(-1,1))"
   ]
  },
  {
   "cell_type": "code",
   "execution_count": 6,
   "id": "18caaace",
   "metadata": {},
   "outputs": [
    {
     "data": {
      "text/plain": [
       "(3762, 1)"
      ]
     },
     "execution_count": 6,
     "metadata": {},
     "output_type": "execute_result"
    }
   ],
   "source": [
    "df1.shape"
   ]
  },
  {
   "cell_type": "code",
   "execution_count": 7,
   "id": "8822a345",
   "metadata": {},
   "outputs": [],
   "source": [
    "training_size= int(len(df1)*0.7)\n"
   ]
  },
  {
   "cell_type": "code",
   "execution_count": 8,
   "id": "012c5046",
   "metadata": {},
   "outputs": [],
   "source": [
    "test_size = len(df1)-training_size\n"
   ]
  },
  {
   "cell_type": "code",
   "execution_count": 9,
   "id": "3653c343",
   "metadata": {},
   "outputs": [
    {
     "data": {
      "text/plain": [
       "(2633, 1129)"
      ]
     },
     "execution_count": 9,
     "metadata": {},
     "output_type": "execute_result"
    }
   ],
   "source": [
    "training_size,test_size"
   ]
  },
  {
   "cell_type": "raw",
   "id": "858a2902",
   "metadata": {},
   "source": []
  },
  {
   "cell_type": "code",
   "execution_count": 10,
   "id": "5f4cbc30",
   "metadata": {},
   "outputs": [],
   "source": [
    "train_data,test_data=df1[0:training_size,:],df1[training_size:len(df1),:1]"
   ]
  },
  {
   "cell_type": "code",
   "execution_count": 11,
   "id": "b63e0067",
   "metadata": {},
   "outputs": [],
   "source": [
    "import numpy\n",
    "#convert an array of values into dataset matrix\n",
    "def create_dataset(dataset,time_step=1):\n",
    "    dataX,dataY = [], []\n",
    "    for i in range (len(dataset)-time_step-1):\n",
    "        a = dataset[i:(i+time_step),0]\n",
    "        dataX.append(a)\n",
    "        dataY.append(dataset[i + time_step ,0])\n",
    "    return numpy.array(dataX), numpy.array(dataY)"
   ]
  },
  {
   "cell_type": "code",
   "execution_count": 12,
   "id": "84008e5d",
   "metadata": {},
   "outputs": [],
   "source": [
    "# reshape\n",
    "time_step = 4\n",
    "X_train, y_train = create_dataset(train_data, time_step)\n",
    "X_test,y_test= create_dataset(test_data, time_step)"
   ]
  },
  {
   "cell_type": "code",
   "execution_count": 13,
   "id": "f4e839d2",
   "metadata": {},
   "outputs": [
    {
     "name": "stdout",
     "output_type": "stream",
     "text": [
      "[[0.02336432 0.07703444 0.05877603 0.02658228]\n",
      " [0.07703444 0.05877603 0.02658228 0.41835621]\n",
      " [0.05877603 0.02658228 0.41835621 0.52430833]\n",
      " ...\n",
      " [0.48375002 0.46565527 0.41835621 0.00445375]\n",
      " [0.46565527 0.41835621 0.00445375 0.05582641]\n",
      " [0.41835621 0.00445375 0.05582641 0.06074062]]\n"
     ]
    }
   ],
   "source": [
    "print(X_train)"
   ]
  },
  {
   "cell_type": "code",
   "execution_count": 14,
   "id": "172d4fb6",
   "metadata": {},
   "outputs": [
    {
     "name": "stdout",
     "output_type": "stream",
     "text": [
      "(1124, 4)\n",
      "(1124,)\n"
     ]
    },
    {
     "data": {
      "text/plain": [
       "(None, None)"
      ]
     },
     "execution_count": 14,
     "metadata": {},
     "output_type": "execute_result"
    }
   ],
   "source": [
    "print(X_test.shape),print(y_test.shape)"
   ]
  },
  {
   "cell_type": "code",
   "execution_count": 15,
   "id": "e2040641",
   "metadata": {},
   "outputs": [],
   "source": [
    "X_train = X_train.reshape(X_train.shape[0],X_train.shape[1], 1)\n",
    "X_test =  X_test.reshape(X_test.shape[0],X_test.shape[1], 1)"
   ]
  },
  {
   "cell_type": "code",
   "execution_count": 1,
   "id": "c23414d4",
   "metadata": {},
   "outputs": [
    {
     "name": "stdout",
     "output_type": "stream",
     "text": [
      "Collecting tensorflow"
     ]
    },
    {
     "name": "stderr",
     "output_type": "stream",
     "text": [
      "ERROR: pip's dependency resolver does not currently take into account all the packages that are installed. This behaviour is the source of the following dependency conflicts.\n",
      "daal4py 2021.3.0 requires daal==2021.2.3, which is not installed.\n",
      "scipy 1.7.1 requires numpy<1.23.0,>=1.16.5, but you have numpy 1.24.3 which is incompatible.\n",
      "numba 0.54.1 requires numpy<1.21,>=1.17, but you have numpy 1.24.3 which is incompatible.\n",
      "label-studio 1.6.0 requires google-auth==2.11.0, but you have google-auth 2.22.0 which is incompatible.\n"
     ]
    },
    {
     "name": "stdout",
     "output_type": "stream",
     "text": [
      "\n",
      "  Using cached tensorflow-2.13.0-cp39-cp39-win_amd64.whl (1.9 kB)\n",
      "Collecting tensorflow-intel==2.13.0\n",
      "  Downloading tensorflow_intel-2.13.0-cp39-cp39-win_amd64.whl (276.5 MB)\n",
      "Collecting flatbuffers>=23.1.21\n",
      "  Downloading flatbuffers-23.5.26-py2.py3-none-any.whl (26 kB)\n",
      "Collecting libclang>=13.0.0\n",
      "  Downloading libclang-16.0.6-py2.py3-none-win_amd64.whl (24.4 MB)\n",
      "Requirement already satisfied: wrapt>=1.11.0 in d:\\anaconda\\lib\\site-packages (from tensorflow-intel==2.13.0->tensorflow) (1.12.1)\n",
      "Collecting termcolor>=1.1.0\n",
      "  Downloading termcolor-2.3.0-py3-none-any.whl (6.9 kB)\n",
      "Requirement already satisfied: packaging in d:\\anaconda\\lib\\site-packages (from tensorflow-intel==2.13.0->tensorflow) (21.0)\n",
      "Requirement already satisfied: setuptools in d:\\anaconda\\lib\\site-packages (from tensorflow-intel==2.13.0->tensorflow) (58.0.4)\n",
      "Collecting tensorflow-estimator<2.14,>=2.13.0\n",
      "  Downloading tensorflow_estimator-2.13.0-py2.py3-none-any.whl (440 kB)\n",
      "Collecting gast<=0.4.0,>=0.2.1\n",
      "  Downloading gast-0.4.0-py3-none-any.whl (9.8 kB)\n",
      "Collecting opt-einsum>=2.3.2\n",
      "  Downloading opt_einsum-3.3.0-py3-none-any.whl (65 kB)\n",
      "Requirement already satisfied: grpcio<2.0,>=1.24.3 in d:\\anaconda\\lib\\site-packages (from tensorflow-intel==2.13.0->tensorflow) (1.50.0)\n",
      "Collecting astunparse>=1.6.0\n",
      "  Downloading astunparse-1.6.3-py2.py3-none-any.whl (12 kB)\n",
      "Collecting tensorboard<2.14,>=2.13\n",
      "  Downloading tensorboard-2.13.0-py3-none-any.whl (5.6 MB)\n",
      "Collecting tensorflow-io-gcs-filesystem>=0.23.1\n",
      "  Downloading tensorflow_io_gcs_filesystem-0.31.0-cp39-cp39-win_amd64.whl (1.5 MB)\n",
      "Collecting numpy<=1.24.3,>=1.22\n",
      "  Downloading numpy-1.24.3-cp39-cp39-win_amd64.whl (14.9 MB)\n",
      "Collecting absl-py>=1.0.0\n",
      "  Downloading absl_py-1.4.0-py3-none-any.whl (126 kB)\n",
      "Requirement already satisfied: typing-extensions<4.6.0,>=3.6.6 in d:\\anaconda\\lib\\site-packages (from tensorflow-intel==2.13.0->tensorflow) (4.4.0)\n",
      "Requirement already satisfied: h5py>=2.9.0 in d:\\anaconda\\lib\\site-packages (from tensorflow-intel==2.13.0->tensorflow) (3.2.1)\n",
      "Requirement already satisfied: protobuf!=4.21.0,!=4.21.1,!=4.21.2,!=4.21.3,!=4.21.4,!=4.21.5,<5.0.0dev,>=3.20.3 in d:\\anaconda\\lib\\site-packages (from tensorflow-intel==2.13.0->tensorflow) (3.20.3)\n",
      "Requirement already satisfied: six>=1.12.0 in d:\\anaconda\\lib\\site-packages (from tensorflow-intel==2.13.0->tensorflow) (1.16.0)\n",
      "Collecting keras<2.14,>=2.13.1\n",
      "  Downloading keras-2.13.1-py3-none-any.whl (1.7 MB)\n",
      "Collecting google-pasta>=0.1.1\n",
      "  Downloading google_pasta-0.2.0-py3-none-any.whl (57 kB)\n",
      "Requirement already satisfied: wheel<1.0,>=0.23.0 in d:\\anaconda\\lib\\site-packages (from astunparse>=1.6.0->tensorflow-intel==2.13.0->tensorflow) (0.37.0)\n",
      "Requirement already satisfied: werkzeug>=1.0.1 in d:\\anaconda\\lib\\site-packages (from tensorboard<2.14,>=2.13->tensorflow-intel==2.13.0->tensorflow) (2.0.2)\n",
      "Requirement already satisfied: google-auth<3,>=1.6.3 in d:\\anaconda\\lib\\site-packages (from tensorboard<2.14,>=2.13->tensorflow-intel==2.13.0->tensorflow) (2.11.0)\n",
      "Requirement already satisfied: requests<3,>=2.21.0 in d:\\anaconda\\lib\\site-packages (from tensorboard<2.14,>=2.13->tensorflow-intel==2.13.0->tensorflow) (2.26.0)\n",
      "Collecting google-auth-oauthlib<1.1,>=0.5\n",
      "  Downloading google_auth_oauthlib-1.0.0-py2.py3-none-any.whl (18 kB)\n",
      "Collecting markdown>=2.6.8\n",
      "  Downloading Markdown-3.4.4-py3-none-any.whl (94 kB)\n",
      "Collecting tensorboard-data-server<0.8.0,>=0.7.0\n",
      "  Downloading tensorboard_data_server-0.7.1-py3-none-any.whl (2.4 kB)\n",
      "Requirement already satisfied: rsa<5,>=3.1.4 in d:\\anaconda\\lib\\site-packages (from google-auth<3,>=1.6.3->tensorboard<2.14,>=2.13->tensorflow-intel==2.13.0->tensorflow) (4.9)\n",
      "Requirement already satisfied: cachetools<6.0,>=2.0.0 in d:\\anaconda\\lib\\site-packages (from google-auth<3,>=1.6.3->tensorboard<2.14,>=2.13->tensorflow-intel==2.13.0->tensorflow) (5.2.0)\n",
      "Requirement already satisfied: pyasn1-modules>=0.2.1 in d:\\anaconda\\lib\\site-packages (from google-auth<3,>=1.6.3->tensorboard<2.14,>=2.13->tensorflow-intel==2.13.0->tensorflow) (0.2.8)\n",
      "Requirement already satisfied: requests-oauthlib>=0.7.0 in d:\\anaconda\\lib\\site-packages (from google-auth-oauthlib<1.1,>=0.5->tensorboard<2.14,>=2.13->tensorflow-intel==2.13.0->tensorflow) (1.3.1)\n",
      "Collecting google-auth<3,>=1.6.3\n",
      "  Downloading google_auth-2.22.0-py2.py3-none-any.whl (181 kB)\n",
      "Requirement already satisfied: urllib3<2.0 in d:\\anaconda\\lib\\site-packages (from google-auth<3,>=1.6.3->tensorboard<2.14,>=2.13->tensorflow-intel==2.13.0->tensorflow) (1.26.13)\n",
      "Requirement already satisfied: importlib-metadata>=4.4 in d:\\anaconda\\lib\\site-packages (from markdown>=2.6.8->tensorboard<2.14,>=2.13->tensorflow-intel==2.13.0->tensorflow) (4.8.1)\n",
      "Requirement already satisfied: zipp>=0.5 in d:\\anaconda\\lib\\site-packages (from importlib-metadata>=4.4->markdown>=2.6.8->tensorboard<2.14,>=2.13->tensorflow-intel==2.13.0->tensorflow) (3.6.0)\n",
      "Requirement already satisfied: pyasn1<0.5.0,>=0.4.6 in d:\\anaconda\\lib\\site-packages (from pyasn1-modules>=0.2.1->google-auth<3,>=1.6.3->tensorboard<2.14,>=2.13->tensorflow-intel==2.13.0->tensorflow) (0.4.8)\n",
      "Requirement already satisfied: charset-normalizer~=2.0.0 in d:\\anaconda\\lib\\site-packages (from requests<3,>=2.21.0->tensorboard<2.14,>=2.13->tensorflow-intel==2.13.0->tensorflow) (2.0.4)\n",
      "Requirement already satisfied: certifi>=2017.4.17 in d:\\anaconda\\lib\\site-packages (from requests<3,>=2.21.0->tensorboard<2.14,>=2.13->tensorflow-intel==2.13.0->tensorflow) (2021.10.8)\n",
      "Requirement already satisfied: idna<4,>=2.5 in d:\\anaconda\\lib\\site-packages (from requests<3,>=2.21.0->tensorboard<2.14,>=2.13->tensorflow-intel==2.13.0->tensorflow) (3.2)\n",
      "Requirement already satisfied: oauthlib>=3.0.0 in d:\\anaconda\\lib\\site-packages (from requests-oauthlib>=0.7.0->google-auth-oauthlib<1.1,>=0.5->tensorboard<2.14,>=2.13->tensorflow-intel==2.13.0->tensorflow) (3.2.2)\n",
      "Requirement already satisfied: pyparsing>=2.0.2 in d:\\anaconda\\lib\\site-packages (from packaging->tensorflow-intel==2.13.0->tensorflow) (3.0.4)\n",
      "Installing collected packages: google-auth, tensorboard-data-server, numpy, markdown, google-auth-oauthlib, absl-py, termcolor, tensorflow-io-gcs-filesystem, tensorflow-estimator, tensorboard, opt-einsum, libclang, keras, google-pasta, gast, flatbuffers, astunparse, tensorflow-intel, tensorflow\n",
      "  Attempting uninstall: google-auth\n",
      "    Found existing installation: google-auth 2.11.0\n",
      "    Uninstalling google-auth-2.11.0:\n",
      "      Successfully uninstalled google-auth-2.11.0\n",
      "  Attempting uninstall: numpy\n",
      "    Found existing installation: numpy 1.20.3\n",
      "    Uninstalling numpy-1.20.3:\n",
      "      Successfully uninstalled numpy-1.20.3\n",
      "Successfully installed absl-py-1.4.0 astunparse-1.6.3 flatbuffers-23.5.26 gast-0.4.0 google-auth-2.22.0 google-auth-oauthlib-1.0.0 google-pasta-0.2.0 keras-2.13.1 libclang-16.0.6 markdown-3.4.4 numpy-1.24.3 opt-einsum-3.3.0 tensorboard-2.13.0 tensorboard-data-server-0.7.1 tensorflow-2.13.0 tensorflow-estimator-2.13.0 tensorflow-intel-2.13.0 tensorflow-io-gcs-filesystem-0.31.0 termcolor-2.3.0\n"
     ]
    }
   ],
   "source": [
    "#!pip install tensorflow"
   ]
  },
  {
   "cell_type": "code",
   "execution_count": 25,
   "id": "4cc54426",
   "metadata": {},
   "outputs": [],
   "source": [
    "#creating lstm model\n",
    "\n",
    "from tensorflow.keras.layers import Dense\n",
    "from tensorflow.keras.layers import LSTM\n",
    "from tensorflow.keras.models import Sequential"
   ]
  },
  {
   "cell_type": "code",
   "execution_count": 17,
   "id": "0782412d",
   "metadata": {},
   "outputs": [
    {
     "name": "stdout",
     "output_type": "stream",
     "text": [
      "Requirement already satisfied: keras in d:\\anaconda\\lib\\site-packages (2.13.1)\n"
     ]
    }
   ],
   "source": []
  },
  {
   "cell_type": "code",
   "execution_count": 26,
   "id": "f388ea20",
   "metadata": {},
   "outputs": [],
   "source": [
    "model = Sequential()\n",
    "model.add(LSTM(50,return_sequences = True, input_shape=(4,1)))\n",
    "model.add(LSTM(50,return_sequences=True))\n",
    "model.add(LSTM(50))\n",
    "model.add(Dense(1))\n",
    "model.compile(loss='mean_squared_error', optimizer ='adam')"
   ]
  },
  {
   "cell_type": "code",
   "execution_count": 27,
   "id": "10b0e30f",
   "metadata": {},
   "outputs": [
    {
     "name": "stdout",
     "output_type": "stream",
     "text": [
      "Model: \"sequential\"\n",
      "_________________________________________________________________\n",
      " Layer (type)                Output Shape              Param #   \n",
      "=================================================================\n",
      " lstm (LSTM)                 (None, 4, 50)             10400     \n",
      "                                                                 \n",
      " lstm_1 (LSTM)               (None, 4, 50)             20200     \n",
      "                                                                 \n",
      " lstm_2 (LSTM)               (None, 50)                20200     \n",
      "                                                                 \n",
      " dense (Dense)               (None, 1)                 51        \n",
      "                                                                 \n",
      "=================================================================\n",
      "Total params: 50851 (198.64 KB)\n",
      "Trainable params: 50851 (198.64 KB)\n",
      "Non-trainable params: 0 (0.00 Byte)\n",
      "_________________________________________________________________\n"
     ]
    }
   ],
   "source": [
    "model.summary()"
   ]
  },
  {
   "cell_type": "code",
   "execution_count": 28,
   "id": "86c3b38f",
   "metadata": {},
   "outputs": [
    {
     "name": "stdout",
     "output_type": "stream",
     "text": [
      "Epoch 1/100\n",
      "42/42 [==============================] - 15s 94ms/step - loss: 0.1550 - val_loss: 0.0811\n",
      "Epoch 2/100\n",
      "42/42 [==============================] - 1s 31ms/step - loss: 0.0931 - val_loss: 0.0719\n",
      "Epoch 3/100\n",
      "42/42 [==============================] - 2s 40ms/step - loss: 0.0704 - val_loss: 0.0496\n",
      "Epoch 4/100\n",
      "42/42 [==============================] - 2s 36ms/step - loss: 0.0570 - val_loss: 0.0371\n",
      "Epoch 5/100\n",
      "42/42 [==============================] - 1s 32ms/step - loss: 0.0458 - val_loss: 0.0300\n",
      "Epoch 6/100\n",
      "42/42 [==============================] - 2s 39ms/step - loss: 0.0415 - val_loss: 0.0319\n",
      "Epoch 7/100\n",
      "42/42 [==============================] - 1s 33ms/step - loss: 0.0382 - val_loss: 0.0347\n",
      "Epoch 8/100\n",
      "42/42 [==============================] - 1s 35ms/step - loss: 0.0374 - val_loss: 0.0303\n",
      "Epoch 9/100\n",
      "42/42 [==============================] - 2s 43ms/step - loss: 0.0379 - val_loss: 0.0290\n",
      "Epoch 10/100\n",
      "42/42 [==============================] - 1s 29ms/step - loss: 0.0396 - val_loss: 0.0282\n",
      "Epoch 11/100\n",
      "42/42 [==============================] - 2s 41ms/step - loss: 0.0372 - val_loss: 0.0285\n",
      "Epoch 12/100\n",
      "42/42 [==============================] - 2s 36ms/step - loss: 0.0364 - val_loss: 0.0293\n",
      "Epoch 13/100\n",
      "42/42 [==============================] - 1s 28ms/step - loss: 0.0352 - val_loss: 0.0302\n",
      "Epoch 14/100\n",
      "42/42 [==============================] - 2s 49ms/step - loss: 0.0359 - val_loss: 0.0313\n",
      "Epoch 15/100\n",
      "42/42 [==============================] - 2s 43ms/step - loss: 0.0349 - val_loss: 0.0267\n",
      "Epoch 16/100\n",
      "42/42 [==============================] - 2s 42ms/step - loss: 0.0347 - val_loss: 0.0304\n",
      "Epoch 17/100\n",
      "42/42 [==============================] - 1s 34ms/step - loss: 0.0346 - val_loss: 0.0285\n",
      "Epoch 18/100\n",
      "42/42 [==============================] - 2s 41ms/step - loss: 0.0342 - val_loss: 0.0268\n",
      "Epoch 19/100\n",
      "42/42 [==============================] - 2s 39ms/step - loss: 0.0338 - val_loss: 0.0275\n",
      "Epoch 20/100\n",
      "42/42 [==============================] - 2s 43ms/step - loss: 0.0339 - val_loss: 0.0270\n",
      "Epoch 21/100\n",
      "42/42 [==============================] - 2s 43ms/step - loss: 0.0337 - val_loss: 0.0279\n",
      "Epoch 22/100\n",
      "42/42 [==============================] - 2s 44ms/step - loss: 0.0347 - val_loss: 0.0290\n",
      "Epoch 23/100\n",
      "42/42 [==============================] - 2s 36ms/step - loss: 0.0332 - val_loss: 0.0262\n",
      "Epoch 24/100\n",
      "42/42 [==============================] - 1s 35ms/step - loss: 0.0335 - val_loss: 0.0328\n",
      "Epoch 25/100\n",
      "42/42 [==============================] - 2s 44ms/step - loss: 0.0341 - val_loss: 0.0276\n",
      "Epoch 26/100\n",
      "42/42 [==============================] - 2s 40ms/step - loss: 0.0326 - val_loss: 0.0280\n",
      "Epoch 27/100\n",
      "42/42 [==============================] - 1s 29ms/step - loss: 0.0328 - val_loss: 0.0254\n",
      "Epoch 28/100\n",
      "42/42 [==============================] - 1s 29ms/step - loss: 0.0328 - val_loss: 0.0253\n",
      "Epoch 29/100\n",
      "42/42 [==============================] - 2s 37ms/step - loss: 0.0335 - val_loss: 0.0262\n",
      "Epoch 30/100\n",
      "42/42 [==============================] - 2s 51ms/step - loss: 0.0333 - val_loss: 0.0260\n",
      "Epoch 31/100\n",
      "42/42 [==============================] - 1s 35ms/step - loss: 0.0330 - val_loss: 0.0273\n",
      "Epoch 32/100\n",
      "42/42 [==============================] - 1s 28ms/step - loss: 0.0324 - val_loss: 0.0257\n",
      "Epoch 33/100\n",
      "42/42 [==============================] - 2s 50ms/step - loss: 0.0326 - val_loss: 0.0258\n",
      "Epoch 34/100\n",
      "42/42 [==============================] - 2s 45ms/step - loss: 0.0329 - val_loss: 0.0254\n",
      "Epoch 35/100\n",
      "42/42 [==============================] - 2s 47ms/step - loss: 0.0324 - val_loss: 0.0265\n",
      "Epoch 36/100\n",
      "42/42 [==============================] - 1s 27ms/step - loss: 0.0331 - val_loss: 0.0280\n",
      "Epoch 37/100\n",
      "42/42 [==============================] - 2s 37ms/step - loss: 0.0326 - val_loss: 0.0265\n",
      "Epoch 38/100\n",
      "42/42 [==============================] - 1s 31ms/step - loss: 0.0335 - val_loss: 0.0256\n",
      "Epoch 39/100\n",
      "42/42 [==============================] - 1s 30ms/step - loss: 0.0333 - val_loss: 0.0254\n",
      "Epoch 40/100\n",
      "42/42 [==============================] - 1s 29ms/step - loss: 0.0321 - val_loss: 0.0251\n",
      "Epoch 41/100\n",
      "42/42 [==============================] - 1s 30ms/step - loss: 0.0319 - val_loss: 0.0254\n",
      "Epoch 42/100\n",
      "42/42 [==============================] - 1s 27ms/step - loss: 0.0319 - val_loss: 0.0275\n",
      "Epoch 43/100\n",
      "42/42 [==============================] - 1s 27ms/step - loss: 0.0328 - val_loss: 0.0276\n",
      "Epoch 44/100\n",
      "42/42 [==============================] - 1s 29ms/step - loss: 0.0318 - val_loss: 0.0259\n",
      "Epoch 45/100\n",
      "42/42 [==============================] - 1s 30ms/step - loss: 0.0318 - val_loss: 0.0255\n",
      "Epoch 46/100\n",
      "42/42 [==============================] - 1s 32ms/step - loss: 0.0320 - val_loss: 0.0262\n",
      "Epoch 47/100\n",
      "42/42 [==============================] - 2s 37ms/step - loss: 0.0320 - val_loss: 0.0247\n",
      "Epoch 48/100\n",
      "42/42 [==============================] - 1s 27ms/step - loss: 0.0316 - val_loss: 0.0250\n",
      "Epoch 49/100\n",
      "42/42 [==============================] - 1s 27ms/step - loss: 0.0315 - val_loss: 0.0263\n",
      "Epoch 50/100\n",
      "42/42 [==============================] - 1s 28ms/step - loss: 0.0319 - val_loss: 0.0255\n",
      "Epoch 51/100\n",
      "42/42 [==============================] - 1s 33ms/step - loss: 0.0314 - val_loss: 0.0260\n",
      "Epoch 52/100\n",
      "42/42 [==============================] - 1s 33ms/step - loss: 0.0319 - val_loss: 0.0245\n",
      "Epoch 53/100\n",
      "42/42 [==============================] - 2s 36ms/step - loss: 0.0324 - val_loss: 0.0250\n",
      "Epoch 54/100\n",
      "42/42 [==============================] - 2s 36ms/step - loss: 0.0316 - val_loss: 0.0243\n",
      "Epoch 55/100\n",
      "42/42 [==============================] - 1s 28ms/step - loss: 0.0318 - val_loss: 0.0247\n",
      "Epoch 56/100\n",
      "42/42 [==============================] - 1s 31ms/step - loss: 0.0315 - val_loss: 0.0253\n",
      "Epoch 57/100\n",
      "42/42 [==============================] - 1s 29ms/step - loss: 0.0314 - val_loss: 0.0243\n",
      "Epoch 58/100\n",
      "42/42 [==============================] - 1s 34ms/step - loss: 0.0313 - val_loss: 0.0266\n",
      "Epoch 59/100\n",
      "42/42 [==============================] - 1s 35ms/step - loss: 0.0317 - val_loss: 0.0253\n",
      "Epoch 60/100\n",
      "42/42 [==============================] - 2s 39ms/step - loss: 0.0314 - val_loss: 0.0255\n",
      "Epoch 61/100\n",
      "42/42 [==============================] - 1s 31ms/step - loss: 0.0319 - val_loss: 0.0269\n",
      "Epoch 62/100\n",
      "42/42 [==============================] - 2s 39ms/step - loss: 0.0315 - val_loss: 0.0264\n",
      "Epoch 63/100\n",
      "42/42 [==============================] - 1s 30ms/step - loss: 0.0317 - val_loss: 0.0244\n",
      "Epoch 64/100\n",
      "42/42 [==============================] - 2s 44ms/step - loss: 0.0314 - val_loss: 0.0256\n",
      "Epoch 65/100\n",
      "42/42 [==============================] - 1s 28ms/step - loss: 0.0319 - val_loss: 0.0253\n",
      "Epoch 66/100\n",
      "42/42 [==============================] - 1s 34ms/step - loss: 0.0325 - val_loss: 0.0246\n",
      "Epoch 67/100\n",
      "42/42 [==============================] - 2s 38ms/step - loss: 0.0320 - val_loss: 0.0257\n",
      "Epoch 68/100\n",
      "42/42 [==============================] - 1s 35ms/step - loss: 0.0316 - val_loss: 0.0254\n",
      "Epoch 69/100\n",
      "42/42 [==============================] - 1s 32ms/step - loss: 0.0344 - val_loss: 0.0243\n",
      "Epoch 70/100\n",
      "42/42 [==============================] - 1s 31ms/step - loss: 0.0312 - val_loss: 0.0262\n",
      "Epoch 71/100\n",
      "42/42 [==============================] - 1s 25ms/step - loss: 0.0315 - val_loss: 0.0244\n",
      "Epoch 72/100\n",
      "42/42 [==============================] - 1s 30ms/step - loss: 0.0309 - val_loss: 0.0246\n",
      "Epoch 73/100\n",
      "42/42 [==============================] - 2s 43ms/step - loss: 0.0312 - val_loss: 0.0242\n",
      "Epoch 74/100\n",
      "42/42 [==============================] - 1s 35ms/step - loss: 0.0311 - val_loss: 0.0257\n",
      "Epoch 75/100\n",
      "42/42 [==============================] - 1s 32ms/step - loss: 0.0312 - val_loss: 0.0242\n",
      "Epoch 76/100\n",
      "42/42 [==============================] - 2s 37ms/step - loss: 0.0312 - val_loss: 0.0242\n",
      "Epoch 77/100\n",
      "42/42 [==============================] - 2s 49ms/step - loss: 0.0314 - val_loss: 0.0249\n",
      "Epoch 78/100\n",
      "42/42 [==============================] - 2s 44ms/step - loss: 0.0308 - val_loss: 0.0249\n",
      "Epoch 79/100\n",
      "42/42 [==============================] - 2s 44ms/step - loss: 0.0309 - val_loss: 0.0255\n",
      "Epoch 80/100\n",
      "42/42 [==============================] - 2s 38ms/step - loss: 0.0305 - val_loss: 0.0255\n",
      "Epoch 81/100\n",
      "42/42 [==============================] - 1s 29ms/step - loss: 0.0307 - val_loss: 0.0255\n",
      "Epoch 82/100\n",
      "42/42 [==============================] - 1s 28ms/step - loss: 0.0308 - val_loss: 0.0246\n",
      "Epoch 83/100\n",
      "42/42 [==============================] - 2s 37ms/step - loss: 0.0311 - val_loss: 0.0243\n",
      "Epoch 84/100\n",
      "42/42 [==============================] - 2s 41ms/step - loss: 0.0311 - val_loss: 0.0271\n",
      "Epoch 85/100\n",
      "42/42 [==============================] - 1s 32ms/step - loss: 0.0314 - val_loss: 0.0277\n",
      "Epoch 86/100\n",
      "42/42 [==============================] - 1s 33ms/step - loss: 0.0315 - val_loss: 0.0255\n",
      "Epoch 87/100\n",
      "42/42 [==============================] - 2s 43ms/step - loss: 0.0302 - val_loss: 0.0241\n",
      "Epoch 88/100\n",
      "42/42 [==============================] - 2s 43ms/step - loss: 0.0310 - val_loss: 0.0254\n",
      "Epoch 89/100\n",
      "42/42 [==============================] - 2s 43ms/step - loss: 0.0307 - val_loss: 0.0240\n",
      "Epoch 90/100\n",
      "42/42 [==============================] - 2s 37ms/step - loss: 0.0304 - val_loss: 0.0241\n",
      "Epoch 91/100\n",
      "42/42 [==============================] - 2s 43ms/step - loss: 0.0305 - val_loss: 0.0244\n",
      "Epoch 92/100\n",
      "42/42 [==============================] - 2s 39ms/step - loss: 0.0310 - val_loss: 0.0245\n",
      "Epoch 93/100\n",
      "42/42 [==============================] - 1s 34ms/step - loss: 0.0305 - val_loss: 0.0238\n",
      "Epoch 94/100\n",
      "42/42 [==============================] - 2s 39ms/step - loss: 0.0298 - val_loss: 0.0233\n",
      "Epoch 95/100\n",
      "42/42 [==============================] - 2s 41ms/step - loss: 0.0303 - val_loss: 0.0231\n",
      "Epoch 96/100\n",
      "42/42 [==============================] - 2s 37ms/step - loss: 0.0305 - val_loss: 0.0237\n",
      "Epoch 97/100\n",
      "42/42 [==============================] - 2s 36ms/step - loss: 0.0303 - val_loss: 0.0238\n",
      "Epoch 98/100\n",
      "42/42 [==============================] - 2s 39ms/step - loss: 0.0297 - val_loss: 0.0236\n",
      "Epoch 99/100\n",
      "42/42 [==============================] - 2s 37ms/step - loss: 0.0296 - val_loss: 0.0234\n",
      "Epoch 100/100\n",
      "42/42 [==============================] - 2s 41ms/step - loss: 0.0296 - val_loss: 0.0233\n"
     ]
    },
    {
     "data": {
      "text/plain": [
       "<keras.src.callbacks.History at 0x257ca2fa700>"
      ]
     },
     "execution_count": 28,
     "metadata": {},
     "output_type": "execute_result"
    }
   ],
   "source": [
    "model.fit(X_train,y_train,validation_data=(X_test,y_test),epochs =100, batch_size=64,verbose=1)"
   ]
  },
  {
   "cell_type": "code",
   "execution_count": 29,
   "id": "06a5eef7",
   "metadata": {},
   "outputs": [
    {
     "name": "stdout",
     "output_type": "stream",
     "text": [
      "83/83 [==============================] - 3s 7ms/step\n",
      "36/36 [==============================] - 0s 6ms/step\n"
     ]
    }
   ],
   "source": [
    "#prediction and chacking performance matrics\n",
    "train_predict=model.predict(X_train)\n",
    "test_predict = model.predict(X_test)"
   ]
  },
  {
   "cell_type": "code",
   "execution_count": 31,
   "id": "8af6d1b0",
   "metadata": {},
   "outputs": [],
   "source": [
    "#reversing scaler from\n",
    "train_predict=scaler.inverse_transform(train_predict)\n",
    "test_predict=scaler.inverse_transform(test_predict)"
   ]
  },
  {
   "cell_type": "code",
   "execution_count": 32,
   "id": "db19cd39",
   "metadata": {},
   "outputs": [
    {
     "data": {
      "text/plain": [
       "3.4932112227068357"
      ]
     },
     "execution_count": 32,
     "metadata": {},
     "output_type": "execute_result"
    }
   ],
   "source": [
    "#calculating Root mean square error-RMSE performance matrics\n",
    "import math\n",
    "from sklearn.metrics import mean_squared_error\n",
    "math.sqrt(mean_squared_error(y_train,train_predict))"
   ]
  },
  {
   "cell_type": "code",
   "execution_count": 33,
   "id": "1e8b00b8",
   "metadata": {},
   "outputs": [
    {
     "data": {
      "text/plain": [
       "3.2649269349280234"
      ]
     },
     "execution_count": 33,
     "metadata": {},
     "output_type": "execute_result"
    }
   ],
   "source": [
    "math.sqrt(mean_squared_error(y_test,test_predict))"
   ]
  },
  {
   "cell_type": "code",
   "execution_count": 37,
   "id": "d3a81127",
   "metadata": {},
   "outputs": [
    {
     "data": {
      "text/plain": [
       "(1, 788)"
      ]
     },
     "execution_count": 37,
     "metadata": {},
     "output_type": "execute_result"
    }
   ],
   "source": [
    "x_input=test_data[341:].reshape(1,-1)\n",
    "x_input.shape"
   ]
  },
  {
   "cell_type": "code",
   "execution_count": 38,
   "id": "f9d43742",
   "metadata": {},
   "outputs": [],
   "source": [
    "temp_input=list(x_input)\n",
    "temp_input=temp_input[0].tolist()"
   ]
  },
  {
   "cell_type": "code",
   "execution_count": null,
   "id": "cc171bf9",
   "metadata": {},
   "outputs": [],
   "source": [
    "#predicting weekly case\n",
    "from numpy import array\n"
   ]
  }
 ],
 "metadata": {
  "kernelspec": {
   "display_name": "Python 3 (ipykernel)",
   "language": "python",
   "name": "python3"
  },
  "language_info": {
   "codemirror_mode": {
    "name": "ipython",
    "version": 3
   },
   "file_extension": ".py",
   "mimetype": "text/x-python",
   "name": "python",
   "nbconvert_exporter": "python",
   "pygments_lexer": "ipython3",
   "version": "3.9.7"
  }
 },
 "nbformat": 4,
 "nbformat_minor": 5
}
